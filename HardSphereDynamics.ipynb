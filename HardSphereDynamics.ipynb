{
  "nbformat": 4,
  "nbformat_minor": 0,
  "metadata": {
    "colab": {
      "provenance": [],
      "authorship_tag": "ABX9TyMFIbQs5zO6XFYc4qPdw2RB",
      "include_colab_link": true
    },
    "kernelspec": {
      "name": "python3",
      "display_name": "Python 3"
    },
    "language_info": {
      "name": "python"
    }
  },
  "cells": [
    {
      "cell_type": "markdown",
      "metadata": {
        "id": "view-in-github",
        "colab_type": "text"
      },
      "source": [
        "<a href=\"https://colab.research.google.com/github/Hydrodynamical/apps/blob/main/HardSphereDynamics.ipynb\" target=\"_parent\"><img src=\"https://colab.research.google.com/assets/colab-badge.svg\" alt=\"Open In Colab\"/></a>"
      ]
    },
    {
      "cell_type": "code",
      "source": [
        "import numpy as np\n",
        "from typing import List\n",
        "\n",
        "# Define an error for post-collisional conditions\n",
        "class SimulationError(Exception):\n",
        "    def __init__(self, message, extra_data=None):\n",
        "        super().__init__(message)\n",
        "        self.extra_data = extra_data\n",
        "\n",
        "    def __str__(self):\n",
        "        return f'{super().__str__()} (extra data: {self.extra_data})'\n"
      ],
      "metadata": {
        "id": "81AczKfI2yaB"
      },
      "execution_count": 1,
      "outputs": []
    },
    {
      "cell_type": "code",
      "execution_count": 2,
      "metadata": {
        "id": "gUAUJjZWYUPx"
      },
      "outputs": [],
      "source": [
        "class Particle:\n",
        "  def __init__(self, mass, position, velocity, index):\n",
        "    self.mass = mass\n",
        "    self.position = position\n",
        "    self.velocity = velocity\n",
        "    self.index = index # index should be mathematicians index from 1, ...\n",
        "\n",
        "  def __repr__(self):\n",
        "    return f\"--------------------\\nmass = {self.mass}\\nposition = {self.position}\\nvelocity = {self.velocity}\\nindex = {self.index}\\n--------------------\"\n",
        "\n",
        "  def print(self):\n",
        "    print(repr(self))\n",
        "\n",
        "  @classmethod\n",
        "  def from_existing(cls, existing_particle, new_position = None, new_velocity=None, new_index=None):\n",
        "      # If no information is included, assign based on existing particle\n",
        "      if new_position is None:\n",
        "          new_position = existing_particle.position\n",
        "      if new_velocity is None:\n",
        "          new_velocity = existing_particle.velocity\n",
        "      if new_index is None:\n",
        "          new_index = existing_particle.index\n",
        "      # Create a new Particle object with properties copied from the existing particle\n",
        "      return cls(new_position, new_velocity, new_index)\n"
      ]
    },
    {
      "cell_type": "code",
      "source": [
        "# Define a total particle number for testing\n",
        "N = 2\n",
        "\n",
        "# Prepare masses, positions, and velocities\n",
        "mass1 = np.array([1])\n",
        "position1 = np.array([0, 0, 0])\n",
        "velocity1 = np.array([1, 1, 1])\n",
        "\n",
        "mass2 = np.array([2])\n",
        "position2 = np.array([1, 2, 3])\n",
        "velocity2 = np.array([2, 2, 2])\n",
        "\n",
        "# Create a list to hold Particle objects\n",
        "particles = []\n",
        "\n",
        "# Create some Particle objects and add them to the list\n",
        "particles.append(Particle(mass=mass1, position=position1, velocity=velocity1, index = 1))\n",
        "particles.append(Particle(mass=mass2, position=position2, velocity=velocity2, index = 2))\n",
        "\n",
        "# Loop through the list and print the attributes of each Particle object\n",
        "for particle in particles:\n",
        "    particle.print()"
      ],
      "metadata": {
        "colab": {
          "base_uri": "https://localhost:8080/"
        },
        "id": "Kg-8GPQxbZze",
        "outputId": "c359b216-e5c5-4988-f777-d83906efe528"
      },
      "execution_count": 3,
      "outputs": [
        {
          "output_type": "stream",
          "name": "stdout",
          "text": [
            "--------------------\n",
            "mass = [1]\n",
            "position = [0 0 0]\n",
            "velocity = [1 1 1]\n",
            "index = 1\n",
            "--------------------\n",
            "--------------------\n",
            "mass = [2]\n",
            "position = [1 2 3]\n",
            "velocity = [2 2 2]\n",
            "index = 2\n",
            "--------------------\n"
          ]
        }
      ]
    },
    {
      "cell_type": "code",
      "source": [
        "# Define a function which returns True if particles below a collision threshold\n",
        "def isCollision(i: Particle, j: Particle, collisionThreshold) -> bool:\n",
        "  relativePositionNorm = np.linalg.norm(i.position - j.position)\n",
        "  if relativePositionNorm <= collisionThreshold:\n",
        "    return True\n",
        "  else:\n",
        "    return False\n",
        "\n",
        "# Check behavior\n",
        "relativePositionNorm = np.linalg.norm(particles[0].position - particles[1].position)\n",
        "print(relativePositionNorm) # output is 3.7416573867739413\n",
        "print(isCollision(particles[0], particles[1], collisionThreshold=3))\n",
        "print(isCollision(particles[0], particles[1], collisionThreshold=4))"
      ],
      "metadata": {
        "colab": {
          "base_uri": "https://localhost:8080/"
        },
        "id": "G_xtCKrHonhn",
        "outputId": "30ea104a-b94a-4726-b3d6-aa937ce51453"
      },
      "execution_count": 4,
      "outputs": [
        {
          "output_type": "stream",
          "name": "stdout",
          "text": [
            "3.7416573867739413\n",
            "False\n",
            "True\n"
          ]
        }
      ]
    },
    {
      "cell_type": "code",
      "source": [
        "# Define a post-collisional velocity pair\n",
        "def postCollisionalVelocities(i: Particle, j: Particle, collisionThreshold):\n",
        "  # Calculate if particles are actually in collision\n",
        "  relativePosition = i.position - j.position\n",
        "  relativePositionNorm = np.linalg.norm(relativePosition)\n",
        "  if relativePositionNorm > collisionThreshold:\n",
        "    raise SimulationError(\"The particles are not colliding.\", extra_data = relativePositionNorm)\n",
        "  else:\n",
        "    # Calculate unit relative position\n",
        "    unitRelativePosition = (1/relativePositionNorm) * relativePosition\n",
        "\n",
        "    # Calculate post collisional velocities\n",
        "    normalizedMass_i = 2 * (j.mass/(i.mass + j.mass))\n",
        "    normalizedMass_j = 2 * (i.mass/(i.mass + j.mass))\n",
        "    postVelocity_i = i.velocity - normalizedMass_i * np.dot(i.velocity - j.velocity, unitRelativePosition) * unitRelativePosition\n",
        "    postVelocity_j = j.velocity + normalizedMass_j * np.dot(i.velocity - j.velocity, unitRelativePosition) * unitRelativePosition\n",
        "\n",
        "    # Create new post collisional particles\n",
        "    i.velocity = postVelocity_i\n",
        "    j.velocity = postVelocity_j\n",
        "\n",
        "\n",
        "# This throws the SimulationError if uncommented\n",
        "#postCollisionalVelocities(particles[0], particles[1], collisionThreshold = 3)\n",
        "\n",
        "# Check behavior\n",
        "print(particles[0])\n",
        "print(particles[1])\n",
        "\n",
        "postCollisionalVelocities(particles[0], particles[1], collisionThreshold=4)\n",
        "\n",
        "print(particles[0])\n",
        "print(particles[1])\n",
        "\n"
      ],
      "metadata": {
        "colab": {
          "base_uri": "https://localhost:8080/"
        },
        "id": "OsG0GVQas8R-",
        "outputId": "89704046-13f2-4d19-ea02-bb055b9c5f8c"
      },
      "execution_count": 5,
      "outputs": [
        {
          "output_type": "stream",
          "name": "stdout",
          "text": [
            "--------------------\n",
            "mass = [1]\n",
            "position = [0 0 0]\n",
            "velocity = [1 1 1]\n",
            "index = 1\n",
            "--------------------\n",
            "--------------------\n",
            "mass = [2]\n",
            "position = [1 2 3]\n",
            "velocity = [2 2 2]\n",
            "index = 2\n",
            "--------------------\n",
            "--------------------\n",
            "mass = [1]\n",
            "position = [0 0 0]\n",
            "velocity = [1.57142857 2.14285714 2.71428571]\n",
            "index = 1\n",
            "--------------------\n",
            "--------------------\n",
            "mass = [2]\n",
            "position = [1 2 3]\n",
            "velocity = [1.71428571 1.42857143 1.14285714]\n",
            "index = 2\n",
            "--------------------\n"
          ]
        }
      ]
    },
    {
      "cell_type": "code",
      "source": [
        "from traitlets.traitlets import Float\n",
        "# Here we define the linear dynamics\n",
        "def linearFlow(gas: List[Particle], time: Float) -> List[Particle]:\n",
        "  for particle in gas:\n",
        "    particle.position = particle.position + time * particle.velocity\n",
        "\n",
        "# Check behavior\n",
        "print(particles[0])\n",
        "print(particles[1])\n",
        "linearFlow(particles, time = 10)\n",
        "print(particles[0])\n",
        "print(particles[1])"
      ],
      "metadata": {
        "colab": {
          "base_uri": "https://localhost:8080/"
        },
        "id": "r0Aw9R7q8aX0",
        "outputId": "babe27c7-dfa6-49e4-8fa4-d8936b2203e2"
      },
      "execution_count": 6,
      "outputs": [
        {
          "output_type": "stream",
          "name": "stdout",
          "text": [
            "--------------------\n",
            "mass = [1]\n",
            "position = [0 0 0]\n",
            "velocity = [1.57142857 2.14285714 2.71428571]\n",
            "index = 1\n",
            "--------------------\n",
            "--------------------\n",
            "mass = [2]\n",
            "position = [1 2 3]\n",
            "velocity = [1.71428571 1.42857143 1.14285714]\n",
            "index = 2\n",
            "--------------------\n",
            "--------------------\n",
            "mass = [1]\n",
            "position = [15.71428571 21.42857143 27.14285714]\n",
            "velocity = [1.57142857 2.14285714 2.71428571]\n",
            "index = 1\n",
            "--------------------\n",
            "--------------------\n",
            "mass = [2]\n",
            "position = [18.14285714 16.28571429 14.42857143]\n",
            "velocity = [1.71428571 1.42857143 1.14285714]\n",
            "index = 2\n",
            "--------------------\n"
          ]
        }
      ]
    }
  ]
}